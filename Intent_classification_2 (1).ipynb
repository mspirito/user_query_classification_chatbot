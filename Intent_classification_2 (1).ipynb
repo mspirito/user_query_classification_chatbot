{
 "cells": [
  {
   "cell_type": "code",
   "execution_count": 1,
   "metadata": {},
   "outputs": [
    {
     "name": "stdout",
     "output_type": "stream",
     "text": [
      "Requirement already satisfied: tensorflow in c:\\users\\ej036t\\anaconda3\\lib\\site-packages (2.1.0)\n",
      "Requirement already satisfied: google-pasta>=0.1.6 in c:\\users\\ej036t\\anaconda3\\lib\\site-packages (from tensorflow) (0.2.0)\n",
      "Requirement already satisfied: opt-einsum>=2.3.2 in c:\\users\\ej036t\\anaconda3\\lib\\site-packages (from tensorflow) (3.1.0)\n",
      "Requirement already satisfied: numpy<2.0,>=1.16.0 in c:\\users\\ej036t\\anaconda3\\lib\\site-packages (from tensorflow) (1.16.5)\n",
      "Requirement already satisfied: tensorflow-estimator<2.2.0,>=2.1.0rc0 in c:\\users\\ej036t\\anaconda3\\lib\\site-packages (from tensorflow) (2.1.0)\n",
      "Requirement already satisfied: termcolor>=1.1.0 in c:\\users\\ej036t\\anaconda3\\lib\\site-packages (from tensorflow) (1.1.0)\n",
      "Requirement already satisfied: wrapt>=1.11.1 in c:\\users\\ej036t\\anaconda3\\lib\\site-packages (from tensorflow) (1.11.2)\n",
      "Requirement already satisfied: gast==0.2.2 in c:\\users\\ej036t\\anaconda3\\lib\\site-packages (from tensorflow) (0.2.2)\n",
      "Requirement already satisfied: wheel>=0.26; python_version >= \"3\" in c:\\users\\ej036t\\anaconda3\\lib\\site-packages (from tensorflow) (0.33.6)\n",
      "Requirement already satisfied: tensorboard<2.2.0,>=2.1.0 in c:\\users\\ej036t\\anaconda3\\lib\\site-packages (from tensorflow) (2.1.1)\n",
      "Requirement already satisfied: grpcio>=1.8.6 in c:\\users\\ej036t\\anaconda3\\lib\\site-packages (from tensorflow) (1.27.2)\n",
      "Requirement already satisfied: keras-applications>=1.0.8 in c:\\users\\ej036t\\anaconda3\\lib\\site-packages (from tensorflow) (1.0.8)\n",
      "Requirement already satisfied: keras-preprocessing>=1.1.0 in c:\\users\\ej036t\\anaconda3\\lib\\site-packages (from tensorflow) (1.1.0)\n",
      "Requirement already satisfied: absl-py>=0.7.0 in c:\\users\\ej036t\\anaconda3\\lib\\site-packages (from tensorflow) (0.9.0)\n",
      "Requirement already satisfied: scipy==1.4.1; python_version >= \"3\" in c:\\users\\ej036t\\anaconda3\\lib\\site-packages (from tensorflow) (1.4.1)\n",
      "Requirement already satisfied: astor>=0.6.0 in c:\\users\\ej036t\\anaconda3\\lib\\site-packages (from tensorflow) (0.8.0)\n",
      "Requirement already satisfied: protobuf>=3.8.0 in c:\\users\\ej036t\\anaconda3\\lib\\site-packages (from tensorflow) (3.11.4)\n",
      "Requirement already satisfied: six>=1.12.0 in c:\\users\\ej036t\\anaconda3\\lib\\site-packages (from tensorflow) (1.12.0)\n",
      "Requirement already satisfied: google-auth<2,>=1.6.3 in c:\\users\\ej036t\\anaconda3\\lib\\site-packages (from tensorboard<2.2.0,>=2.1.0->tensorflow) (1.14.1)\n",
      "Requirement already satisfied: markdown>=2.6.8 in c:\\users\\ej036t\\anaconda3\\lib\\site-packages (from tensorboard<2.2.0,>=2.1.0->tensorflow) (3.1.1)\n",
      "Requirement already satisfied: setuptools>=41.0.0 in c:\\users\\ej036t\\anaconda3\\lib\\site-packages (from tensorboard<2.2.0,>=2.1.0->tensorflow) (41.4.0)\n",
      "Requirement already satisfied: google-auth-oauthlib<0.5,>=0.4.1 in c:\\users\\ej036t\\anaconda3\\lib\\site-packages (from tensorboard<2.2.0,>=2.1.0->tensorflow) (0.4.1)\n",
      "Requirement already satisfied: werkzeug>=0.11.15 in c:\\users\\ej036t\\anaconda3\\lib\\site-packages (from tensorboard<2.2.0,>=2.1.0->tensorflow) (0.16.0)\n",
      "Requirement already satisfied: requests<3,>=2.21.0 in c:\\users\\ej036t\\anaconda3\\lib\\site-packages (from tensorboard<2.2.0,>=2.1.0->tensorflow) (2.22.0)\n",
      "Requirement already satisfied: h5py in c:\\users\\ej036t\\anaconda3\\lib\\site-packages (from keras-applications>=1.0.8->tensorflow) (2.9.0)\n",
      "Requirement already satisfied: pyasn1-modules>=0.2.1 in c:\\users\\ej036t\\anaconda3\\lib\\site-packages (from google-auth<2,>=1.6.3->tensorboard<2.2.0,>=2.1.0->tensorflow) (0.2.7)\n",
      "Requirement already satisfied: cachetools<5.0,>=2.0.0 in c:\\users\\ej036t\\anaconda3\\lib\\site-packages (from google-auth<2,>=1.6.3->tensorboard<2.2.0,>=2.1.0->tensorflow) (3.1.1)\n",
      "Requirement already satisfied: rsa<4.1,>=3.1.4 in c:\\users\\ej036t\\anaconda3\\lib\\site-packages (from google-auth<2,>=1.6.3->tensorboard<2.2.0,>=2.1.0->tensorflow) (4.0)\n",
      "Requirement already satisfied: requests-oauthlib>=0.7.0 in c:\\users\\ej036t\\anaconda3\\lib\\site-packages (from google-auth-oauthlib<0.5,>=0.4.1->tensorboard<2.2.0,>=2.1.0->tensorflow) (1.3.0)\n",
      "Requirement already satisfied: idna<2.9,>=2.5 in c:\\users\\ej036t\\anaconda3\\lib\\site-packages (from requests<3,>=2.21.0->tensorboard<2.2.0,>=2.1.0->tensorflow) (2.8)\n",
      "Requirement already satisfied: urllib3!=1.25.0,!=1.25.1,<1.26,>=1.21.1 in c:\\users\\ej036t\\anaconda3\\lib\\site-packages (from requests<3,>=2.21.0->tensorboard<2.2.0,>=2.1.0->tensorflow) (1.24.2)\n",
      "Requirement already satisfied: certifi>=2017.4.17 in c:\\users\\ej036t\\anaconda3\\lib\\site-packages (from requests<3,>=2.21.0->tensorboard<2.2.0,>=2.1.0->tensorflow) (2019.9.11)\n",
      "Requirement already satisfied: chardet<3.1.0,>=3.0.2 in c:\\users\\ej036t\\anaconda3\\lib\\site-packages (from requests<3,>=2.21.0->tensorboard<2.2.0,>=2.1.0->tensorflow) (3.0.4)\n",
      "Requirement already satisfied: pyasn1<0.5.0,>=0.4.6 in c:\\users\\ej036t\\anaconda3\\lib\\site-packages (from pyasn1-modules>=0.2.1->google-auth<2,>=1.6.3->tensorboard<2.2.0,>=2.1.0->tensorflow) (0.4.8)\n",
      "Requirement already satisfied: oauthlib>=3.0.0 in c:\\users\\ej036t\\anaconda3\\lib\\site-packages (from requests-oauthlib>=0.7.0->google-auth-oauthlib<0.5,>=0.4.1->tensorboard<2.2.0,>=2.1.0->tensorflow) (3.1.0)\n"
     ]
    }
   ],
   "source": [
    "!pip install tensorflow"
   ]
  },
  {
   "cell_type": "code",
   "execution_count": 94,
   "metadata": {},
   "outputs": [
    {
     "name": "stdout",
     "output_type": "stream",
     "text": [
      "Requirement already satisfied: keras in c:\\users\\ej036t\\anaconda3\\lib\\site-packages (2.3.1)\n",
      "Requirement already satisfied: numpy>=1.9.1 in c:\\users\\ej036t\\anaconda3\\lib\\site-packages (from keras) (1.16.5)\n",
      "Requirement already satisfied: scipy>=0.14 in c:\\users\\ej036t\\anaconda3\\lib\\site-packages (from keras) (1.4.1)\n",
      "Requirement already satisfied: six>=1.9.0 in c:\\users\\ej036t\\anaconda3\\lib\\site-packages (from keras) (1.12.0)\n",
      "Requirement already satisfied: pyyaml in c:\\users\\ej036t\\anaconda3\\lib\\site-packages (from keras) (5.1.2)\n",
      "Requirement already satisfied: h5py in c:\\users\\ej036t\\anaconda3\\lib\\site-packages (from keras) (2.9.0)\n",
      "Requirement already satisfied: keras_applications>=1.0.6 in c:\\users\\ej036t\\anaconda3\\lib\\site-packages (from keras) (1.0.8)\n",
      "Requirement already satisfied: keras_preprocessing>=1.0.5 in c:\\users\\ej036t\\anaconda3\\lib\\site-packages (from keras) (1.1.0)\n"
     ]
    }
   ],
   "source": [
    "!pip install keras"
   ]
  },
  {
   "cell_type": "code",
   "execution_count": 3,
   "metadata": {},
   "outputs": [
    {
     "name": "stdout",
     "output_type": "stream",
     "text": [
      "Requirement already satisfied: nltk==3.5 in c:\\users\\ej036t\\anaconda3\\lib\\site-packages (3.5)\n",
      "Requirement already satisfied: click in c:\\users\\ej036t\\anaconda3\\lib\\site-packages (from nltk==3.5) (7.0)\n",
      "Requirement already satisfied: regex in c:\\users\\ej036t\\anaconda3\\lib\\site-packages (from nltk==3.5) (2020.9.27)\n",
      "Requirement already satisfied: joblib in c:\\users\\ej036t\\anaconda3\\lib\\site-packages (from nltk==3.5) (0.13.2)\n",
      "Requirement already satisfied: tqdm in c:\\users\\ej036t\\anaconda3\\lib\\site-packages (from nltk==3.5) (4.36.1)\n"
     ]
    }
   ],
   "source": [
    "!pip install nltk==3.5"
   ]
  },
  {
   "cell_type": "code",
   "execution_count": 150,
   "metadata": {},
   "outputs": [],
   "source": [
    "\n",
    "import numpy as np\n",
    "import pandas as pd\n",
    "from nltk.corpus import stopwords\n",
    "from nltk.tokenize import word_tokenize\n",
    "from nltk.stem.lancaster import LancasterStemmer\n",
    "import nltk\n",
    "import re\n",
    "from sklearn.preprocessing import OneHotEncoder\n",
    "import matplotlib.pyplot as plt\n",
    "from keras.preprocessing.text import Tokenizer\n",
    "from keras.preprocessing.sequence import pad_sequences\n",
    "from keras.utils import to_categorical\n",
    "from keras.models import Sequential, load_model\n",
    "from keras.layers import Dense, LSTM, Bidirectional, Embedding, Dropout\n",
    "from keras.callbacks import ModelCheckpoint"
   ]
  },
  {
   "cell_type": "code",
   "execution_count": 219,
   "metadata": {},
   "outputs": [
    {
     "name": "stdout",
     "output_type": "stream",
     "text": [
      "Collecting package metadata (current_repodata.json): ...working... done\n",
      "Solving environment: ...working... failed with initial frozen solve. Retrying with flexible solve.\n",
      "Solving environment: ...working... failed with repodata from current_repodata.json, will retry with next repodata source.\n",
      "Collecting package metadata (repodata.json): ...working... done\n",
      "Solving environment: ...working... done\n",
      "\n",
      "## Package Plan ##\n",
      "\n",
      "  environment location: C:\\Users\\ej036t\\Anaconda3\n",
      "\n",
      "  added / updated specs:\n",
      "    - imbalanced-learn\n",
      "\n",
      "\n",
      "The following packages will be downloaded:\n",
      "\n",
      "    package                    |            build\n",
      "    ---------------------------|-----------------\n",
      "    certifi-2019.9.11          |           py37_0         147 KB  conda-forge\n",
      "    conda-4.8.5                |   py37hc8dfbb8_1         3.1 MB  conda-forge\n",
      "    imbalanced-learn-0.5.0     |             py_0          98 KB  conda-forge\n",
      "    python_abi-3.7             |          1_cp37m           4 KB  conda-forge\n",
      "    ------------------------------------------------------------\n",
      "                                           Total:         3.3 MB\n",
      "\n",
      "The following NEW packages will be INSTALLED:\n",
      "\n",
      "  imbalanced-learn   conda-forge/noarch::imbalanced-learn-0.5.0-py_0\n",
      "  python_abi         conda-forge/win-64::python_abi-3.7-1_cp37m\n",
      "\n",
      "The following packages will be UPDATED:\n",
      "\n",
      "  conda                       pkgs/main::conda-4.8.4-py37_0 --> conda-forge::conda-4.8.5-py37hc8dfbb8_1\n",
      "\n",
      "The following packages will be SUPERSEDED by a higher-priority channel:\n",
      "\n",
      "  certifi                                         pkgs/main --> conda-forge\n",
      "\n",
      "\n",
      "\n",
      "Downloading and Extracting Packages\n",
      "\n",
      "python_abi-3.7       | 4 KB      |            |   0% \n",
      "python_abi-3.7       | 4 KB      | ########## | 100% \n",
      "python_abi-3.7       | 4 KB      | ########## | 100% \n",
      "\n",
      "certifi-2019.9.11    | 147 KB    |            |   0% \n",
      "certifi-2019.9.11    | 147 KB    | #          |  11% \n",
      "certifi-2019.9.11    | 147 KB    | ########6  |  87% \n",
      "certifi-2019.9.11    | 147 KB    | ########## | 100% \n",
      "\n",
      "conda-4.8.5          | 3.1 MB    |            |   0% \n",
      "conda-4.8.5          | 3.1 MB    |            |   1% \n",
      "conda-4.8.5          | 3.1 MB    | 4          |   4% \n",
      "conda-4.8.5          | 3.1 MB    | 9          |  10% \n",
      "conda-4.8.5          | 3.1 MB    | #4         |  14% \n",
      "conda-4.8.5          | 3.1 MB    | #7         |  17% \n",
      "conda-4.8.5          | 3.1 MB    | ##1        |  22% \n",
      "conda-4.8.5          | 3.1 MB    | ##7        |  27% \n",
      "conda-4.8.5          | 3.1 MB    | ###2       |  33% \n",
      "conda-4.8.5          | 3.1 MB    | ###7       |  37% \n",
      "conda-4.8.5          | 3.1 MB    | ####1      |  41% \n",
      "conda-4.8.5          | 3.1 MB    | ####6      |  47% \n",
      "conda-4.8.5          | 3.1 MB    | #####1     |  52% \n",
      "conda-4.8.5          | 3.1 MB    | #####6     |  56% \n",
      "conda-4.8.5          | 3.1 MB    | ######     |  61% \n",
      "conda-4.8.5          | 3.1 MB    | ######5    |  65% \n",
      "conda-4.8.5          | 3.1 MB    | ######9    |  69% \n",
      "conda-4.8.5          | 3.1 MB    | #######3   |  74% \n",
      "conda-4.8.5          | 3.1 MB    | #######7   |  77% \n",
      "conda-4.8.5          | 3.1 MB    | ########1  |  81% \n",
      "conda-4.8.5          | 3.1 MB    | ########5  |  85% \n",
      "conda-4.8.5          | 3.1 MB    | ########9  |  89% \n",
      "conda-4.8.5          | 3.1 MB    | #########3 |  94% \n",
      "conda-4.8.5          | 3.1 MB    | #########8 |  99% \n",
      "conda-4.8.5          | 3.1 MB    | ########## | 100% \n",
      "\n",
      "imbalanced-learn-0.5 | 98 KB     |            |   0% \n",
      "imbalanced-learn-0.5 | 98 KB     | #6         |  16% \n",
      "imbalanced-learn-0.5 | 98 KB     | ########## | 100% \n",
      "imbalanced-learn-0.5 | 98 KB     | ########## | 100% \n",
      "Preparing transaction: ...working... done\n",
      "Verifying transaction: ...working... done\n",
      "Executing transaction: ...working... done\n",
      "\n",
      "Note: you may need to restart the kernel to use updated packages.\n"
     ]
    },
    {
     "name": "stderr",
     "output_type": "stream",
     "text": [
      "\n",
      "\n",
      "==> WARNING: A newer version of conda exists. <==\n",
      "  current version: 4.8.4\n",
      "  latest version: 4.8.5\n",
      "\n",
      "Please update conda by running\n",
      "\n",
      "    $ conda update -n base -c defaults conda\n",
      "\n",
      "\n"
     ]
    }
   ],
   "source": [
    "conda install -c conda-forge imbalanced-learn"
   ]
  },
  {
   "cell_type": "code",
   "execution_count": 221,
   "metadata": {},
   "outputs": [],
   "source": [
    "from imblearn import under_sampling, over_sampling\n",
    "from imblearn.over_sampling import SMOTE"
   ]
  },
  {
   "cell_type": "code",
   "execution_count": 182,
   "metadata": {},
   "outputs": [
    {
     "data": {
      "text/html": [
       "<div>\n",
       "<style scoped>\n",
       "    .dataframe tbody tr th:only-of-type {\n",
       "        vertical-align: middle;\n",
       "    }\n",
       "\n",
       "    .dataframe tbody tr th {\n",
       "        vertical-align: top;\n",
       "    }\n",
       "\n",
       "    .dataframe thead th {\n",
       "        text-align: right;\n",
       "    }\n",
       "</style>\n",
       "<table border=\"1\" class=\"dataframe\">\n",
       "  <thead>\n",
       "    <tr style=\"text-align: right;\">\n",
       "      <th></th>\n",
       "      <th>question</th>\n",
       "      <th>scenario</th>\n",
       "      <th>intent</th>\n",
       "    </tr>\n",
       "  </thead>\n",
       "  <tbody>\n",
       "    <tr>\n",
       "      <td>0</td>\n",
       "      <td>have i got any alarms set</td>\n",
       "      <td>alarm</td>\n",
       "      <td>query</td>\n",
       "    </tr>\n",
       "    <tr>\n",
       "      <td>1</td>\n",
       "      <td>what's the current temperature</td>\n",
       "      <td>weather</td>\n",
       "      <td>query</td>\n",
       "    </tr>\n",
       "    <tr>\n",
       "      <td>2</td>\n",
       "      <td>tell me about lisa ann</td>\n",
       "      <td>qa</td>\n",
       "      <td>factoid</td>\n",
       "    </tr>\n",
       "    <tr>\n",
       "      <td>3</td>\n",
       "      <td>play jumper by third eye blind</td>\n",
       "      <td>play</td>\n",
       "      <td>music</td>\n",
       "    </tr>\n",
       "    <tr>\n",
       "      <td>4</td>\n",
       "      <td>if there any alarm is set then let me know</td>\n",
       "      <td>alarm</td>\n",
       "      <td>query</td>\n",
       "    </tr>\n",
       "    <tr>\n",
       "      <td>...</td>\n",
       "      <td>...</td>\n",
       "      <td>...</td>\n",
       "      <td>...</td>\n",
       "    </tr>\n",
       "    <tr>\n",
       "      <td>14509</td>\n",
       "      <td>i want to mute the speaker</td>\n",
       "      <td>audio</td>\n",
       "      <td>volume_mute</td>\n",
       "    </tr>\n",
       "    <tr>\n",
       "      <td>14510</td>\n",
       "      <td>are there any alarms set what are they</td>\n",
       "      <td>alarm</td>\n",
       "      <td>query</td>\n",
       "    </tr>\n",
       "    <tr>\n",
       "      <td>14511</td>\n",
       "      <td>put on some techno music please</td>\n",
       "      <td>play</td>\n",
       "      <td>music</td>\n",
       "    </tr>\n",
       "    <tr>\n",
       "      <td>14512</td>\n",
       "      <td>kill all the frogs you see</td>\n",
       "      <td>general</td>\n",
       "      <td>quirky</td>\n",
       "    </tr>\n",
       "    <tr>\n",
       "      <td>14513</td>\n",
       "      <td>can you shut off my bedroom light</td>\n",
       "      <td>iot</td>\n",
       "      <td>hue_lightoff</td>\n",
       "    </tr>\n",
       "  </tbody>\n",
       "</table>\n",
       "<p>14514 rows × 3 columns</p>\n",
       "</div>"
      ],
      "text/plain": [
       "                                         question scenario        intent\n",
       "0                       have i got any alarms set    alarm         query\n",
       "1                  what's the current temperature  weather         query\n",
       "2                          tell me about lisa ann       qa       factoid\n",
       "3                  play jumper by third eye blind     play         music\n",
       "4      if there any alarm is set then let me know    alarm         query\n",
       "...                                           ...      ...           ...\n",
       "14509                  i want to mute the speaker    audio   volume_mute\n",
       "14510      are there any alarms set what are they    alarm         query\n",
       "14511             put on some techno music please     play         music\n",
       "14512                  kill all the frogs you see  general        quirky\n",
       "14513           can you shut off my bedroom light      iot  hue_lightoff\n",
       "\n",
       "[14514 rows x 3 columns]"
      ]
     },
     "execution_count": 182,
     "metadata": {},
     "output_type": "execute_result"
    }
   ],
   "source": [
    "data = pd.read_csv(\"train_dataset_intent.csv\", sep = \";\")\n",
    "data"
   ]
  },
  {
   "cell_type": "code",
   "execution_count": 183,
   "metadata": {},
   "outputs": [],
   "source": [
    "data[\"scenario_intent\"]= data[\"scenario\"]+\"_\"+data[\"intent\"]"
   ]
  },
  {
   "cell_type": "code",
   "execution_count": 184,
   "metadata": {},
   "outputs": [
    {
     "data": {
      "text/html": [
       "<div>\n",
       "<style scoped>\n",
       "    .dataframe tbody tr th:only-of-type {\n",
       "        vertical-align: middle;\n",
       "    }\n",
       "\n",
       "    .dataframe tbody tr th {\n",
       "        vertical-align: top;\n",
       "    }\n",
       "\n",
       "    .dataframe thead th {\n",
       "        text-align: right;\n",
       "    }\n",
       "</style>\n",
       "<table border=\"1\" class=\"dataframe\">\n",
       "  <thead>\n",
       "    <tr style=\"text-align: right;\">\n",
       "      <th></th>\n",
       "      <th>question</th>\n",
       "      <th>scenario</th>\n",
       "      <th>intent</th>\n",
       "      <th>scenario_intent</th>\n",
       "    </tr>\n",
       "  </thead>\n",
       "  <tbody>\n",
       "    <tr>\n",
       "      <td>0</td>\n",
       "      <td>have i got any alarms set</td>\n",
       "      <td>alarm</td>\n",
       "      <td>query</td>\n",
       "      <td>alarm_query</td>\n",
       "    </tr>\n",
       "    <tr>\n",
       "      <td>1</td>\n",
       "      <td>what's the current temperature</td>\n",
       "      <td>weather</td>\n",
       "      <td>query</td>\n",
       "      <td>weather_query</td>\n",
       "    </tr>\n",
       "    <tr>\n",
       "      <td>2</td>\n",
       "      <td>tell me about lisa ann</td>\n",
       "      <td>qa</td>\n",
       "      <td>factoid</td>\n",
       "      <td>qa_factoid</td>\n",
       "    </tr>\n",
       "    <tr>\n",
       "      <td>3</td>\n",
       "      <td>play jumper by third eye blind</td>\n",
       "      <td>play</td>\n",
       "      <td>music</td>\n",
       "      <td>play_music</td>\n",
       "    </tr>\n",
       "    <tr>\n",
       "      <td>4</td>\n",
       "      <td>if there any alarm is set then let me know</td>\n",
       "      <td>alarm</td>\n",
       "      <td>query</td>\n",
       "      <td>alarm_query</td>\n",
       "    </tr>\n",
       "    <tr>\n",
       "      <td>...</td>\n",
       "      <td>...</td>\n",
       "      <td>...</td>\n",
       "      <td>...</td>\n",
       "      <td>...</td>\n",
       "    </tr>\n",
       "    <tr>\n",
       "      <td>14509</td>\n",
       "      <td>i want to mute the speaker</td>\n",
       "      <td>audio</td>\n",
       "      <td>volume_mute</td>\n",
       "      <td>audio_volume_mute</td>\n",
       "    </tr>\n",
       "    <tr>\n",
       "      <td>14510</td>\n",
       "      <td>are there any alarms set what are they</td>\n",
       "      <td>alarm</td>\n",
       "      <td>query</td>\n",
       "      <td>alarm_query</td>\n",
       "    </tr>\n",
       "    <tr>\n",
       "      <td>14511</td>\n",
       "      <td>put on some techno music please</td>\n",
       "      <td>play</td>\n",
       "      <td>music</td>\n",
       "      <td>play_music</td>\n",
       "    </tr>\n",
       "    <tr>\n",
       "      <td>14512</td>\n",
       "      <td>kill all the frogs you see</td>\n",
       "      <td>general</td>\n",
       "      <td>quirky</td>\n",
       "      <td>general_quirky</td>\n",
       "    </tr>\n",
       "    <tr>\n",
       "      <td>14513</td>\n",
       "      <td>can you shut off my bedroom light</td>\n",
       "      <td>iot</td>\n",
       "      <td>hue_lightoff</td>\n",
       "      <td>iot_hue_lightoff</td>\n",
       "    </tr>\n",
       "  </tbody>\n",
       "</table>\n",
       "<p>14514 rows × 4 columns</p>\n",
       "</div>"
      ],
      "text/plain": [
       "                                         question scenario        intent  \\\n",
       "0                       have i got any alarms set    alarm         query   \n",
       "1                  what's the current temperature  weather         query   \n",
       "2                          tell me about lisa ann       qa       factoid   \n",
       "3                  play jumper by third eye blind     play         music   \n",
       "4      if there any alarm is set then let me know    alarm         query   \n",
       "...                                           ...      ...           ...   \n",
       "14509                  i want to mute the speaker    audio   volume_mute   \n",
       "14510      are there any alarms set what are they    alarm         query   \n",
       "14511             put on some techno music please     play         music   \n",
       "14512                  kill all the frogs you see  general        quirky   \n",
       "14513           can you shut off my bedroom light      iot  hue_lightoff   \n",
       "\n",
       "         scenario_intent  \n",
       "0            alarm_query  \n",
       "1          weather_query  \n",
       "2             qa_factoid  \n",
       "3             play_music  \n",
       "4            alarm_query  \n",
       "...                  ...  \n",
       "14509  audio_volume_mute  \n",
       "14510        alarm_query  \n",
       "14511         play_music  \n",
       "14512     general_quirky  \n",
       "14513   iot_hue_lightoff  \n",
       "\n",
       "[14514 rows x 4 columns]"
      ]
     },
     "execution_count": 184,
     "metadata": {},
     "output_type": "execute_result"
    }
   ],
   "source": [
    "data"
   ]
  },
  {
   "cell_type": "code",
   "execution_count": 73,
   "metadata": {},
   "outputs": [],
   "source": []
  },
  {
   "cell_type": "code",
   "execution_count": 75,
   "metadata": {},
   "outputs": [],
   "source": []
  },
  {
   "cell_type": "code",
   "execution_count": 185,
   "metadata": {},
   "outputs": [
    {
     "data": {
      "text/plain": [
       "<matplotlib.axes._subplots.AxesSubplot at 0x1cc282e3308>"
      ]
     },
     "execution_count": 185,
     "metadata": {},
     "output_type": "execute_result"
    },
    {
     "data": {
      "image/png": "[encoded data removed]",
      "text/plain": [
       "<Figure size 432x288 with 1 Axes>"
      ]
     },
     "metadata": {},
     "output_type": "display_data"
    }
   ],
   "source": [
    "data['scenario_intent'].value_counts().plot.bar()"
   ]
  },
  {
   "cell_type": "code",
   "execution_count": 186,
   "metadata": {},
   "outputs": [
    {
     "data": {
      "text/plain": [
       "calendar_set                999\n",
       "play_music                  841\n",
       "general_quirky              740\n",
       "weather_query               739\n",
       "qa_factoid                  736\n",
       "calendar_query              712\n",
       "news_query                  592\n",
       "email_query                 531\n",
       "email_sendemail             482\n",
       "datetime_query              434\n",
       "play_radio                  385\n",
       "calendar_remove             383\n",
       "social_post                 379\n",
       "qa_definition               353\n",
       "cooking_recipe              289\n",
       "transport_query             288\n",
       "qa_currency                 265\n",
       "play_podcasts               265\n",
       "lists_query                 260\n",
       "recommendation_events       225\n",
       "lists_remove                224\n",
       "alarm_set                   214\n",
       "lists_createoradd           206\n",
       "music_query                 196\n",
       "qa_stock                    189\n",
       "recommendation_locations    179\n",
       "iot_hue_lightoff            172\n",
       "transport_ticket            167\n",
       "play_audiobook              167\n",
       "play_game                   164\n",
       "iot_hue_lightchange         157\n",
       "takeaway_query              156\n",
       "email_querycontact          155\n",
       "music_likeness              143\n",
       "transport_traffic           140\n",
       "iot_coffee                  139\n",
       "takeaway_order              139\n",
       "alarm_query                 136\n",
       "transport_taxi              129\n",
       "iot_cleaning                120\n",
       "social_query                120\n",
       "audio_volume_mute           114\n",
       "qa_maths                    113\n",
       "audio_volume_up             101\n",
       "iot_hue_lightup              99\n",
       "iot_hue_lightdim             88\n",
       "general_joke                 85\n",
       "alarm_remove                 82\n",
       "recommendation_movies        78\n",
       "iot_wemo_off                 69\n",
       "datetime_convert             68\n",
       "email_addcontact             62\n",
       "music_settings               56\n",
       "iot_wemo_on                  56\n",
       "audio_volume_down            53\n",
       "iot_hue_lighton              27\n",
       "audio_volume_other           17\n",
       "general_greet                17\n",
       "music_dislikeness            17\n",
       "cooking_query                 2\n",
       "Name: scenario_intent, dtype: int64"
      ]
     },
     "execution_count": 186,
     "metadata": {},
     "output_type": "execute_result"
    }
   ],
   "source": [
    "data['scenario_intent'].value_counts()"
   ]
  },
  {
   "cell_type": "code",
   "execution_count": 187,
   "metadata": {},
   "outputs": [],
   "source": [
    "data = data.drop(data[data['scenario_intent'] == 'calendar_set'].sample(frac=0.60).index)\n",
    "data = data.drop(data[data['scenario_intent'] == 'play_music'].sample(frac=0.60).index)\n",
    "data = data.drop(data[data['scenario_intent'] == 'general_quirky'].sample(frac=0.50).index)\n",
    "data = data.drop(data[data['scenario_intent'] == 'weather_query'].sample(frac=0.50).index)\n",
    "data = data.drop(data[data['scenario_intent'] == 'qa_factoid'].sample(frac=0.50).index)\n",
    "data = data.drop(data[data['scenario_intent'] == 'calendar_query'].sample(frac=0.50).index)\n",
    "data = data.drop(data[data['scenario_intent'] == 'news_query'].sample(frac=0.50).index)\n",
    "data = data.drop(data[data['scenario_intent'] == 'email_query'].sample(frac=0.30).index)\n",
    "data = data.drop(data[data['scenario_intent'] == 'email_sendemail'].sample(frac=0.30).index)\n",
    "data = data.drop(data[data['scenario_intent'] == 'datetime_query'].sample(frac=0.30).index)\n",
    "data = data.drop(data[data['scenario_intent'] == 'play_radio'].sample(frac=0.20).index)\n",
    "\n"
   ]
  },
  {
   "cell_type": "code",
   "execution_count": 188,
   "metadata": {},
   "outputs": [
    {
     "data": {
      "text/plain": [
       "calendar_set                400\n",
       "calendar_remove             383\n",
       "social_post                 379\n",
       "email_query                 372\n",
       "general_quirky              370\n",
       "weather_query               369\n",
       "qa_factoid                  368\n",
       "calendar_query              356\n",
       "qa_definition               353\n",
       "email_sendemail             337\n",
       "play_music                  336\n",
       "play_radio                  308\n",
       "datetime_query              304\n",
       "news_query                  296\n",
       "cooking_recipe              289\n",
       "transport_query             288\n",
       "qa_currency                 265\n",
       "play_podcasts               265\n",
       "lists_query                 260\n",
       "recommendation_events       225\n",
       "lists_remove                224\n",
       "alarm_set                   214\n",
       "lists_createoradd           206\n",
       "music_query                 196\n",
       "qa_stock                    189\n",
       "recommendation_locations    179\n",
       "iot_hue_lightoff            172\n",
       "play_audiobook              167\n",
       "transport_ticket            167\n",
       "play_game                   164\n",
       "iot_hue_lightchange         157\n",
       "takeaway_query              156\n",
       "email_querycontact          155\n",
       "music_likeness              143\n",
       "transport_traffic           140\n",
       "iot_coffee                  139\n",
       "takeaway_order              139\n",
       "alarm_query                 136\n",
       "transport_taxi              129\n",
       "iot_cleaning                120\n",
       "social_query                120\n",
       "audio_volume_mute           114\n",
       "qa_maths                    113\n",
       "audio_volume_up             101\n",
       "iot_hue_lightup              99\n",
       "iot_hue_lightdim             88\n",
       "general_joke                 85\n",
       "alarm_remove                 82\n",
       "recommendation_movies        78\n",
       "iot_wemo_off                 69\n",
       "datetime_convert             68\n",
       "email_addcontact             62\n",
       "music_settings               56\n",
       "iot_wemo_on                  56\n",
       "audio_volume_down            53\n",
       "iot_hue_lighton              27\n",
       "audio_volume_other           17\n",
       "general_greet                17\n",
       "music_dislikeness            17\n",
       "cooking_query                 2\n",
       "Name: scenario_intent, dtype: int64"
      ]
     },
     "execution_count": 188,
     "metadata": {},
     "output_type": "execute_result"
    }
   ],
   "source": [
    "data['scenario_intent'].value_counts()"
   ]
  },
  {
   "cell_type": "code",
   "execution_count": 249,
   "metadata": {},
   "outputs": [
    {
     "data": {
      "text/plain": [
       "<matplotlib.axes._subplots.AxesSubplot at 0x1cb3e6b39c8>"
      ]
     },
     "execution_count": 249,
     "metadata": {},
     "output_type": "execute_result"
    },
    {
     "data": {
      "image/png": "[encoded data removed]",
      "text/plain": [
       "<Figure size 432x288 with 1 Axes>"
      ]
     },
     "metadata": {},
     "output_type": "display_data"
    }
   ],
   "source": [
    "data['scenario_intent'].value_counts().plot.bar()"
   ]
  },
  {
   "cell_type": "code",
   "execution_count": 250,
   "metadata": {},
   "outputs": [
    {
     "data": {
      "text/plain": [
       "calendar_set                False\n",
       "calendar_remove             False\n",
       "social_post                 False\n",
       "email_query                 False\n",
       "general_quirky              False\n",
       "weather_query               False\n",
       "qa_factoid                  False\n",
       "calendar_query              False\n",
       "qa_definition               False\n",
       "email_sendemail             False\n",
       "play_music                  False\n",
       "play_radio                  False\n",
       "datetime_query              False\n",
       "news_query                  False\n",
       "cooking_recipe              False\n",
       "transport_query             False\n",
       "qa_currency                 False\n",
       "play_podcasts               False\n",
       "lists_query                 False\n",
       "recommendation_events       False\n",
       "lists_remove                False\n",
       "alarm_set                   False\n",
       "lists_createoradd           False\n",
       "music_query                 False\n",
       "qa_stock                    False\n",
       "recommendation_locations    False\n",
       "iot_hue_lightoff            False\n",
       "play_audiobook              False\n",
       "transport_ticket            False\n",
       "play_game                   False\n",
       "iot_hue_lightchange         False\n",
       "takeaway_query              False\n",
       "email_querycontact          False\n",
       "music_likeness              False\n",
       "transport_traffic           False\n",
       "iot_coffee                  False\n",
       "takeaway_order              False\n",
       "alarm_query                 False\n",
       "transport_taxi              False\n",
       "iot_cleaning                False\n",
       "social_query                False\n",
       "audio_volume_mute           False\n",
       "qa_maths                    False\n",
       "audio_volume_up             False\n",
       "iot_hue_lightup             False\n",
       "iot_hue_lightdim            False\n",
       "general_joke                False\n",
       "alarm_remove                False\n",
       "recommendation_movies       False\n",
       "iot_wemo_off                False\n",
       "datetime_convert            False\n",
       "email_addcontact            False\n",
       "music_settings               True\n",
       "iot_wemo_on                  True\n",
       "audio_volume_down            True\n",
       "iot_hue_lighton              True\n",
       "audio_volume_other           True\n",
       "general_greet                True\n",
       "music_dislikeness            True\n",
       "cooking_query                True\n",
       "Name: scenario_intent, dtype: bool"
      ]
     },
     "execution_count": 250,
     "metadata": {},
     "output_type": "execute_result"
    }
   ],
   "source": [
    "data['scenario_intent'].value_counts()< 60"
   ]
  },
  {
   "cell_type": "code",
   "execution_count": 190,
   "metadata": {},
   "outputs": [
    {
     "data": {
      "text/html": [
       "<div>\n",
       "<style scoped>\n",
       "    .dataframe tbody tr th:only-of-type {\n",
       "        vertical-align: middle;\n",
       "    }\n",
       "\n",
       "    .dataframe tbody tr th {\n",
       "        vertical-align: top;\n",
       "    }\n",
       "\n",
       "    .dataframe thead th {\n",
       "        text-align: right;\n",
       "    }\n",
       "</style>\n",
       "<table border=\"1\" class=\"dataframe\">\n",
       "  <thead>\n",
       "    <tr style=\"text-align: right;\">\n",
       "      <th></th>\n",
       "      <th>question</th>\n",
       "      <th>scenario</th>\n",
       "      <th>intent</th>\n",
       "      <th>scenario_intent</th>\n",
       "    </tr>\n",
       "  </thead>\n",
       "  <tbody>\n",
       "    <tr>\n",
       "      <td>0</td>\n",
       "      <td>have i got any alarms set</td>\n",
       "      <td>alarm</td>\n",
       "      <td>query</td>\n",
       "      <td>alarm_query</td>\n",
       "    </tr>\n",
       "    <tr>\n",
       "      <td>4</td>\n",
       "      <td>if there any alarm is set then let me know</td>\n",
       "      <td>alarm</td>\n",
       "      <td>query</td>\n",
       "      <td>alarm_query</td>\n",
       "    </tr>\n",
       "    <tr>\n",
       "      <td>5</td>\n",
       "      <td>get me an uber please</td>\n",
       "      <td>transport</td>\n",
       "      <td>taxi</td>\n",
       "      <td>transport_taxi</td>\n",
       "    </tr>\n",
       "    <tr>\n",
       "      <td>6</td>\n",
       "      <td>should i go through the valley or on the ten t...</td>\n",
       "      <td>transport</td>\n",
       "      <td>traffic</td>\n",
       "      <td>transport_traffic</td>\n",
       "    </tr>\n",
       "    <tr>\n",
       "      <td>8</td>\n",
       "      <td>what's new on my facebook account</td>\n",
       "      <td>social</td>\n",
       "      <td>query</td>\n",
       "      <td>social_query</td>\n",
       "    </tr>\n",
       "    <tr>\n",
       "      <td>...</td>\n",
       "      <td>...</td>\n",
       "      <td>...</td>\n",
       "      <td>...</td>\n",
       "      <td>...</td>\n",
       "    </tr>\n",
       "    <tr>\n",
       "      <td>14507</td>\n",
       "      <td>give me the idea of current traffic condition</td>\n",
       "      <td>transport</td>\n",
       "      <td>traffic</td>\n",
       "      <td>transport_traffic</td>\n",
       "    </tr>\n",
       "    <tr>\n",
       "      <td>14508</td>\n",
       "      <td>hoover the carpets around</td>\n",
       "      <td>iot</td>\n",
       "      <td>cleaning</td>\n",
       "      <td>iot_cleaning</td>\n",
       "    </tr>\n",
       "    <tr>\n",
       "      <td>14509</td>\n",
       "      <td>i want to mute the speaker</td>\n",
       "      <td>audio</td>\n",
       "      <td>volume_mute</td>\n",
       "      <td>audio_volume_mute</td>\n",
       "    </tr>\n",
       "    <tr>\n",
       "      <td>14510</td>\n",
       "      <td>are there any alarms set what are they</td>\n",
       "      <td>alarm</td>\n",
       "      <td>query</td>\n",
       "      <td>alarm_query</td>\n",
       "    </tr>\n",
       "    <tr>\n",
       "      <td>14513</td>\n",
       "      <td>can you shut off my bedroom light</td>\n",
       "      <td>iot</td>\n",
       "      <td>hue_lightoff</td>\n",
       "      <td>iot_hue_lightoff</td>\n",
       "    </tr>\n",
       "  </tbody>\n",
       "</table>\n",
       "<p>11139 rows × 4 columns</p>\n",
       "</div>"
      ],
      "text/plain": [
       "                                                question   scenario  \\\n",
       "0                              have i got any alarms set      alarm   \n",
       "4             if there any alarm is set then let me know      alarm   \n",
       "5                                  get me an uber please  transport   \n",
       "6      should i go through the valley or on the ten t...  transport   \n",
       "8                      what's new on my facebook account     social   \n",
       "...                                                  ...        ...   \n",
       "14507      give me the idea of current traffic condition  transport   \n",
       "14508                          hoover the carpets around        iot   \n",
       "14509                         i want to mute the speaker      audio   \n",
       "14510             are there any alarms set what are they      alarm   \n",
       "14513                  can you shut off my bedroom light        iot   \n",
       "\n",
       "             intent    scenario_intent  \n",
       "0             query        alarm_query  \n",
       "4             query        alarm_query  \n",
       "5              taxi     transport_taxi  \n",
       "6           traffic  transport_traffic  \n",
       "8             query       social_query  \n",
       "...             ...                ...  \n",
       "14507       traffic  transport_traffic  \n",
       "14508      cleaning       iot_cleaning  \n",
       "14509   volume_mute  audio_volume_mute  \n",
       "14510         query        alarm_query  \n",
       "14513  hue_lightoff   iot_hue_lightoff  \n",
       "\n",
       "[11139 rows x 4 columns]"
      ]
     },
     "execution_count": 190,
     "metadata": {},
     "output_type": "execute_result"
    }
   ],
   "source": [
    "data"
   ]
  },
  {
   "cell_type": "code",
   "execution_count": 191,
   "metadata": {},
   "outputs": [],
   "source": [
    "question = list(data[\"question\"])\n",
    "scenario_intent= data[\"scenario_intent\"]\n",
    "unique_scen_int=list(set(scenario_intent))"
   ]
  },
  {
   "cell_type": "code",
   "execution_count": 192,
   "metadata": {},
   "outputs": [
    {
     "data": {
      "text/plain": [
       "60"
      ]
     },
     "execution_count": 192,
     "metadata": {},
     "output_type": "execute_result"
    }
   ],
   "source": [
    "len(unique_scen_int)"
   ]
  },
  {
   "cell_type": "code",
   "execution_count": 193,
   "metadata": {},
   "outputs": [
    {
     "name": "stdout",
     "output_type": "stream",
     "text": [
      "['have i got any alarms set', 'if there any alarm is set then let me know', 'get me an uber please', 'should i go through the valley or on the ten to get to westwood', \"what's new on my facebook account\"]\n"
     ]
    }
   ],
   "source": [
    "print(question[:5])"
   ]
  },
  {
   "cell_type": "code",
   "execution_count": 194,
   "metadata": {},
   "outputs": [
    {
     "name": "stderr",
     "output_type": "stream",
     "text": [
      "[nltk_data] Downloading package stopwords to\n",
      "[nltk_data]     C:\\Users\\ej036t\\AppData\\Roaming\\nltk_data...\n",
      "[nltk_data]   Package stopwords is already up-to-date!\n",
      "[nltk_data] Downloading package punkt to\n",
      "[nltk_data]     C:\\Users\\ej036t\\AppData\\Roaming\\nltk_data...\n",
      "[nltk_data]   Package punkt is already up-to-date!\n"
     ]
    },
    {
     "data": {
      "text/plain": [
       "True"
      ]
     },
     "execution_count": 194,
     "metadata": {},
     "output_type": "execute_result"
    }
   ],
   "source": [
    "\n",
    "nltk.download(\"stopwords\")\n",
    "nltk.download(\"punkt\")"
   ]
  },
  {
   "cell_type": "code",
   "execution_count": 195,
   "metadata": {},
   "outputs": [],
   "source": [
    "\n",
    "#define stemmer\n",
    "stemmer = LancasterStemmer()"
   ]
  },
  {
   "cell_type": "code",
   "execution_count": 196,
   "metadata": {},
   "outputs": [],
   "source": [
    "def cleaning(question):\n",
    "  words = []\n",
    "  for q in question:\n",
    "    clean = re.sub(r'[^ a-z A-Z 0-9]', \" \", q)\n",
    "    w = word_tokenize(clean)\n",
    "    #stemming\n",
    "    words.append([i.lower() for i in w])\n",
    "    \n",
    "  return words"
   ]
  },
  {
   "cell_type": "code",
   "execution_count": 197,
   "metadata": {},
   "outputs": [
    {
     "name": "stdout",
     "output_type": "stream",
     "text": [
      "11139\n",
      "[['have', 'i', 'got', 'any', 'alarms', 'set'], ['if', 'there', 'any', 'alarm', 'is', 'set', 'then', 'let', 'me', 'know']]\n"
     ]
    }
   ],
   "source": [
    "cleaned_words = cleaning(question)\n",
    "print(len(cleaned_words))\n",
    "print(cleaned_words[:2])"
   ]
  },
  {
   "cell_type": "code",
   "execution_count": 198,
   "metadata": {},
   "outputs": [],
   "source": [
    "def create_tokenizer(words, filters = '!\"#$%&()*+,-./:;<=>?@[\\]^_`{|}~'):\n",
    "  token = Tokenizer(filters = filters)\n",
    "  token.fit_on_texts(words)\n",
    "  return token"
   ]
  },
  {
   "cell_type": "code",
   "execution_count": 199,
   "metadata": {},
   "outputs": [],
   "source": [
    "\n",
    "def max_length(words):\n",
    "  return(len(max(words, key = len)))"
   ]
  },
  {
   "cell_type": "code",
   "execution_count": 200,
   "metadata": {},
   "outputs": [
    {
     "name": "stdout",
     "output_type": "stream",
     "text": [
      "Vocab Size = 5541 and Maximum length = 39\n"
     ]
    }
   ],
   "source": [
    "word_tokenizer = create_tokenizer(cleaned_words)\n",
    "vocab_size = len(word_tokenizer.word_index) + 1\n",
    "max_length = max_length(cleaned_words)\n",
    "\n",
    "print(\"Vocab Size = %d and Maximum length = %d\" % (vocab_size, max_length))"
   ]
  },
  {
   "cell_type": "code",
   "execution_count": 201,
   "metadata": {},
   "outputs": [],
   "source": [
    "def encoding_doc(token, words):\n",
    "  return(token.texts_to_sequences(words))"
   ]
  },
  {
   "cell_type": "code",
   "execution_count": 202,
   "metadata": {},
   "outputs": [],
   "source": [
    "encoded_doc = encoding_doc(word_tokenizer, cleaned_words)"
   ]
  },
  {
   "cell_type": "code",
   "execution_count": 203,
   "metadata": {},
   "outputs": [],
   "source": [
    "def padding_doc(encoded_doc, max_length):\n",
    "  return(pad_sequences(encoded_doc, maxlen = max_length, padding = \"post\"))"
   ]
  },
  {
   "cell_type": "code",
   "execution_count": 204,
   "metadata": {},
   "outputs": [],
   "source": [
    "padded_doc = padding_doc(encoded_doc, max_length)"
   ]
  },
  {
   "cell_type": "code",
   "execution_count": 205,
   "metadata": {},
   "outputs": [
    {
     "data": {
      "text/plain": [
       "array([[  31,    6,  300,   36,  132,   34,    0,    0,    0,    0,    0,\n",
       "           0,    0,    0,    0,    0,    0,    0,    0,    0,    0,    0,\n",
       "           0,    0,    0,    0,    0,    0,    0,    0,    0,    0,    0,\n",
       "           0,    0,    0,    0,    0,    0],\n",
       "       [ 127,   58,   36,   43,    4,   34,  666,  117,    5,  105,    0,\n",
       "           0,    0,    0,    0,    0,    0,    0,    0,    0,    0,    0,\n",
       "           0,    0,    0,    0,    0,    0,    0,    0,    0,    0,    0,\n",
       "           0,    0,    0,    0,    0,    0],\n",
       "       [  63,    5,   37,  243,   13,    0,    0,    0,    0,    0,    0,\n",
       "           0,    0,    0,    0,    0,    0,    0,    0,    0,    0,    0,\n",
       "           0,    0,    0,    0,    0,    0,    0,    0,    0,    0,    0,\n",
       "           0,    0,    0,    0,    0,    0],\n",
       "       [ 148,    6,  100,  720,    1, 1867,  186,   11,    1,  124,    2,\n",
       "          63,    2, 2686,    0,    0,    0,    0,    0,    0,    0,    0,\n",
       "           0,    0,    0,    0,    0,    0,    0,    0,    0,    0,    0,\n",
       "           0,    0,    0,    0,    0,    0],\n",
       "       [   3,   16,   27,   11,    7,  130,  482,    0,    0,    0,    0,\n",
       "           0,    0,    0,    0,    0,    0,    0,    0,    0,    0,    0,\n",
       "           0,    0,    0,    0,    0,    0,    0,    0,    0,    0,    0,\n",
       "           0,    0,    0,    0,    0,    0]])"
      ]
     },
     "execution_count": 205,
     "metadata": {},
     "output_type": "execute_result"
    }
   ],
   "source": [
    "padded_doc[:5]\n"
   ]
  },
  {
   "cell_type": "code",
   "execution_count": 206,
   "metadata": {},
   "outputs": [
    {
     "name": "stdout",
     "output_type": "stream",
     "text": [
      "Shape of padded docs =  (11139, 39)\n"
     ]
    }
   ],
   "source": [
    "print(\"Shape of padded docs = \",padded_doc.shape)"
   ]
  },
  {
   "cell_type": "code",
   "execution_count": 207,
   "metadata": {},
   "outputs": [],
   "source": [
    "#tokenizer with filter changed\n",
    "output_tokenizer = create_tokenizer(unique_scen_int, filters = '!\"#$%&()*+/:,;<=>?@[\\]^`{|}~')"
   ]
  },
  {
   "cell_type": "code",
   "execution_count": 208,
   "metadata": {},
   "outputs": [
    {
     "data": {
      "text/plain": [
       "{'audio_volume_mute': 1,\n",
       " 'music_settings': 2,\n",
       " 'weather_query': 3,\n",
       " 'social_post': 4,\n",
       " 'iot_cleaning': 5,\n",
       " 'iot_hue_lightup': 6,\n",
       " 'email_query': 7,\n",
       " 'qa_stock': 8,\n",
       " 'email_addcontact': 9,\n",
       " 'takeaway_order': 10,\n",
       " 'iot_wemo_off': 11,\n",
       " 'transport_query': 12,\n",
       " 'qa_maths': 13,\n",
       " 'calendar_set': 14,\n",
       " 'qa_definition': 15,\n",
       " 'email_sendemail': 16,\n",
       " 'alarm_query': 17,\n",
       " 'alarm_set': 18,\n",
       " 'calendar_remove': 19,\n",
       " 'play_music': 20,\n",
       " 'qa_factoid': 21,\n",
       " 'qa_currency': 22,\n",
       " 'audio_volume_other': 23,\n",
       " 'music_query': 24,\n",
       " 'lists_query': 25,\n",
       " 'recommendation_events': 26,\n",
       " 'takeaway_query': 27,\n",
       " 'cooking_recipe': 28,\n",
       " 'recommendation_movies': 29,\n",
       " 'general_greet': 30,\n",
       " 'iot_hue_lighton': 31,\n",
       " 'iot_hue_lightoff': 32,\n",
       " 'datetime_convert': 33,\n",
       " 'transport_traffic': 34,\n",
       " 'iot_hue_lightchange': 35,\n",
       " 'play_game': 36,\n",
       " 'general_joke': 37,\n",
       " 'general_quirky': 38,\n",
       " 'cooking_query': 39,\n",
       " 'lists_remove': 40,\n",
       " 'email_querycontact': 41,\n",
       " 'iot_coffee': 42,\n",
       " 'recommendation_locations': 43,\n",
       " 'datetime_query': 44,\n",
       " 'play_audiobook': 45,\n",
       " 'play_podcasts': 46,\n",
       " 'music_dislikeness': 47,\n",
       " 'audio_volume_down': 48,\n",
       " 'music_likeness': 49,\n",
       " 'alarm_remove': 50,\n",
       " 'social_query': 51,\n",
       " 'news_query': 52,\n",
       " 'play_radio': 53,\n",
       " 'calendar_query': 54,\n",
       " 'transport_ticket': 55,\n",
       " 'lists_createoradd': 56,\n",
       " 'iot_wemo_on': 57,\n",
       " 'transport_taxi': 58,\n",
       " 'audio_volume_up': 59,\n",
       " 'iot_hue_lightdim': 60}"
      ]
     },
     "execution_count": 208,
     "metadata": {},
     "output_type": "execute_result"
    }
   ],
   "source": [
    "output_tokenizer.word_index"
   ]
  },
  {
   "cell_type": "code",
   "execution_count": 209,
   "metadata": {},
   "outputs": [],
   "source": [
    "encoded_output = encoding_doc(output_tokenizer, scenario_intent)"
   ]
  },
  {
   "cell_type": "code",
   "execution_count": 210,
   "metadata": {},
   "outputs": [],
   "source": [
    "encoded_output = np.array(encoded_output).reshape(len(encoded_output), 1)"
   ]
  },
  {
   "cell_type": "code",
   "execution_count": 211,
   "metadata": {},
   "outputs": [
    {
     "data": {
      "text/plain": [
       "(11139, 1)"
      ]
     },
     "execution_count": 211,
     "metadata": {},
     "output_type": "execute_result"
    }
   ],
   "source": [
    "encoded_output.shape"
   ]
  },
  {
   "cell_type": "code",
   "execution_count": 212,
   "metadata": {},
   "outputs": [],
   "source": [
    "def one_hot(encode):\n",
    "  o = OneHotEncoder(sparse = False)\n",
    "  return(o.fit_transform(encode))"
   ]
  },
  {
   "cell_type": "code",
   "execution_count": 213,
   "metadata": {},
   "outputs": [
    {
     "name": "stderr",
     "output_type": "stream",
     "text": [
      "C:\\Users\\ej036t\\Anaconda3\\lib\\site-packages\\sklearn\\preprocessing\\_encoders.py:415: FutureWarning: The handling of integer data will change in version 0.22. Currently, the categories are determined based on the range [0, max(values)], while in the future they will be determined based on the unique values.\n",
      "If you want the future behaviour and silence this warning, you can specify \"categories='auto'\".\n",
      "In case you used a LabelEncoder before this OneHotEncoder to convert the categories to integers, then you can now use the OneHotEncoder directly.\n",
      "  warnings.warn(msg, FutureWarning)\n"
     ]
    }
   ],
   "source": [
    "output_one_hot = one_hot(encoded_output)"
   ]
  },
  {
   "cell_type": "code",
   "execution_count": 214,
   "metadata": {},
   "outputs": [
    {
     "data": {
      "text/plain": [
       "(11139, 60)"
      ]
     },
     "execution_count": 214,
     "metadata": {},
     "output_type": "execute_result"
    }
   ],
   "source": [
    "output_one_hot.shape"
   ]
  },
  {
   "cell_type": "code",
   "execution_count": 215,
   "metadata": {},
   "outputs": [],
   "source": [
    "from sklearn.model_selection import train_test_split"
   ]
  },
  {
   "cell_type": "code",
   "execution_count": 216,
   "metadata": {},
   "outputs": [],
   "source": [
    "train_X, val_X, train_Y, val_Y = train_test_split(padded_doc, output_one_hot, shuffle = True, test_size = 0.2)"
   ]
  },
  {
   "cell_type": "code",
   "execution_count": 253,
   "metadata": {
    "scrolled": true
   },
   "outputs": [
    {
     "name": "stdout",
     "output_type": "stream",
     "text": [
      "Shape of train_X = (8911, 39) and train_Y = (8911, 60)\n",
      "Shape of val_X = (2228, 39) and val_Y = (2228, 60)\n"
     ]
    }
   ],
   "source": [
    "print(\"Shape of train_X = %s and train_Y = %s\" % (train_X.shape, train_Y.shape))\n",
    "print(\"Shape of val_X = %s and val_Y = %s\" % (val_X.shape, val_Y.shape))"
   ]
  },
  {
   "cell_type": "code",
   "execution_count": 252,
   "metadata": {},
   "outputs": [
    {
     "data": {
      "text/plain": [
       "<matplotlib.axes._subplots.AxesSubplot at 0x1cc32e23a88>"
      ]
     },
     "execution_count": 252,
     "metadata": {},
     "output_type": "execute_result"
    },
    {
     "data": {
      "image/png": "[encoded data removed]",
      "text/plain": [
       "<Figure size 432x288 with 1 Axes>"
      ]
     },
     "metadata": {},
     "output_type": "display_data"
    }
   ],
   "source": [
    "data['scenario_intent'][:8911].value_counts().plot.bar()"
   ]
  },
  {
   "cell_type": "code",
   "execution_count": 256,
   "metadata": {},
   "outputs": [],
   "source": [
    "# import the Random Over Sampler object.\n",
    "from imblearn.over_sampling import RandomOverSampler\n",
    "\n",
    "# create the object.\n",
    "over_sampler = RandomOverSampler()\n",
    "\n",
    "# fit the object to the training data.\n",
    "x_train_over, y_train_over = over_sampler.fit_sample(train_X, train_Y)"
   ]
  },
  {
   "cell_type": "code",
   "execution_count": 257,
   "metadata": {},
   "outputs": [
    {
     "name": "stdout",
     "output_type": "stream",
     "text": [
      "Shape of train_X = (19740, 39) and train_Y = (19740, 60)\n"
     ]
    }
   ],
   "source": [
    "print(\"Shape of train_X = %s and train_Y = %s\" % (x_train_over.shape, y_train_over.shape))"
   ]
  },
  {
   "cell_type": "code",
   "execution_count": null,
   "metadata": {},
   "outputs": [],
   "source": []
  },
  {
   "cell_type": "code",
   "execution_count": 261,
   "metadata": {},
   "outputs": [],
   "source": [
    "def create_model(vocab_size, max_length):\n",
    "  model = Sequential()\n",
    "  model.add(Embedding(vocab_size,1000, input_length = max_length, trainable = False))\n",
    "  model.add(Bidirectional(LSTM(200)))\n",
    "# model.add(LSTM(200))\n",
    "  model.add(Dense(100,activation = \"relu\"))\n",
    "  model.add(Dropout(0.5))\n",
    "  model.add(Dense(60, activation = \"softmax\"))\n",
    "  \n",
    "  return model"
   ]
  },
  {
   "cell_type": "code",
   "execution_count": 262,
   "metadata": {},
   "outputs": [
    {
     "name": "stdout",
     "output_type": "stream",
     "text": [
      "Model: \"sequential_8\"\n",
      "_________________________________________________________________\n",
      "Layer (type)                 Output Shape              Param #   \n",
      "=================================================================\n",
      "embedding_8 (Embedding)      (None, 39, 1000)          5541000   \n",
      "_________________________________________________________________\n",
      "bidirectional_8 (Bidirection (None, 400)               1921600   \n",
      "_________________________________________________________________\n",
      "dense_17 (Dense)             (None, 100)               40100     \n",
      "_________________________________________________________________\n",
      "dropout_10 (Dropout)         (None, 100)               0         \n",
      "_________________________________________________________________\n",
      "dense_18 (Dense)             (None, 60)                6060      \n",
      "=================================================================\n",
      "Total params: 7,508,760\n",
      "Trainable params: 1,967,760\n",
      "Non-trainable params: 5,541,000\n",
      "_________________________________________________________________\n"
     ]
    }
   ],
   "source": [
    "\n",
    "model = create_model(vocab_size, max_length)\n",
    "\n",
    "model.compile(loss = \"categorical_crossentropy\", optimizer = \"adam\", metrics = [\"accuracy\"])\n",
    "model.summary()"
   ]
  },
  {
   "cell_type": "code",
   "execution_count": 263,
   "metadata": {
    "scrolled": false
   },
   "outputs": [
    {
     "name": "stdout",
     "output_type": "stream",
     "text": [
      "Train on 19740 samples, validate on 2228 samples\n",
      "Epoch 1/20\n",
      "19740/19740 [==============================] - 79s 4ms/step - loss: 3.9722 - accuracy: 0.0511 - val_loss: 3.7553 - val_accuracy: 0.1028\n",
      "\n",
      "Epoch 00001: val_loss improved from inf to 3.75534, saving model to model.h5\n",
      "Epoch 2/20\n",
      "19740/19740 [==============================] - 86s 4ms/step - loss: 3.1264 - accuracy: 0.2158 - val_loss: 2.5144 - val_accuracy: 0.4039\n",
      "\n",
      "Epoch 00002: val_loss improved from 3.75534 to 2.51444, saving model to model.h5\n",
      "Epoch 3/20\n",
      "19740/19740 [==============================] - 80s 4ms/step - loss: 2.1521 - accuracy: 0.4328 - val_loss: 1.8702 - val_accuracy: 0.5444\n",
      "\n",
      "Epoch 00003: val_loss improved from 2.51444 to 1.87023, saving model to model.h5\n",
      "Epoch 4/20\n",
      "19740/19740 [==============================] - 79s 4ms/step - loss: 1.6084 - accuracy: 0.5713 - val_loss: 1.5013 - val_accuracy: 0.6351\n",
      "\n",
      "Epoch 00004: val_loss improved from 1.87023 to 1.50131, saving model to model.h5\n",
      "Epoch 5/20\n",
      "19740/19740 [==============================] - 80s 4ms/step - loss: 1.2615 - accuracy: 0.6658 - val_loss: 1.3249 - val_accuracy: 0.6674\n",
      "\n",
      "Epoch 00005: val_loss improved from 1.50131 to 1.32486, saving model to model.h5\n",
      "Epoch 6/20\n",
      "19740/19740 [==============================] - 75s 4ms/step - loss: 1.0211 - accuracy: 0.7292 - val_loss: 1.2164 - val_accuracy: 0.6840\n",
      "\n",
      "Epoch 00006: val_loss improved from 1.32486 to 1.21643, saving model to model.h5\n",
      "Epoch 7/20\n",
      "19740/19740 [==============================] - 79s 4ms/step - loss: 0.8706 - accuracy: 0.7652 - val_loss: 1.1332 - val_accuracy: 0.7150\n",
      "\n",
      "Epoch 00007: val_loss improved from 1.21643 to 1.13316, saving model to model.h5\n",
      "Epoch 8/20\n",
      "19740/19740 [==============================] - 75s 4ms/step - loss: 0.7584 - accuracy: 0.8018 - val_loss: 1.0743 - val_accuracy: 0.7244\n",
      "\n",
      "Epoch 00008: val_loss improved from 1.13316 to 1.07427, saving model to model.h5\n",
      "Epoch 9/20\n",
      "19740/19740 [==============================] - 72s 4ms/step - loss: 0.6493 - accuracy: 0.8304 - val_loss: 1.0887 - val_accuracy: 0.7298\n",
      "\n",
      "Epoch 00009: val_loss did not improve from 1.07427\n",
      "Epoch 10/20\n",
      "19740/19740 [==============================] - 73s 4ms/step - loss: 0.5812 - accuracy: 0.8442 - val_loss: 1.0633 - val_accuracy: 0.7338\n",
      "\n",
      "Epoch 00010: val_loss improved from 1.07427 to 1.06330, saving model to model.h5\n",
      "Epoch 11/20\n",
      "19740/19740 [==============================] - 72s 4ms/step - loss: 0.5197 - accuracy: 0.8650 - val_loss: 1.0573 - val_accuracy: 0.7410\n",
      "\n",
      "Epoch 00011: val_loss improved from 1.06330 to 1.05730, saving model to model.h5\n",
      "Epoch 12/20\n",
      "19740/19740 [==============================] - 73s 4ms/step - loss: 0.4632 - accuracy: 0.8776 - val_loss: 1.0545 - val_accuracy: 0.7379\n",
      "\n",
      "Epoch 00012: val_loss improved from 1.05730 to 1.05449, saving model to model.h5\n",
      "Epoch 13/20\n",
      "19740/19740 [==============================] - 74s 4ms/step - loss: 0.4131 - accuracy: 0.8915 - val_loss: 1.0803 - val_accuracy: 0.7397\n",
      "\n",
      "Epoch 00013: val_loss did not improve from 1.05449\n",
      "Epoch 14/20\n",
      "19740/19740 [==============================] - 76s 4ms/step - loss: 0.3908 - accuracy: 0.8958 - val_loss: 1.0783 - val_accuracy: 0.7527\n",
      "\n",
      "Epoch 00014: val_loss did not improve from 1.05449\n",
      "Epoch 15/20\n",
      "19740/19740 [==============================] - 73s 4ms/step - loss: 0.3398 - accuracy: 0.9101 - val_loss: 1.0887 - val_accuracy: 0.7540\n",
      "\n",
      "Epoch 00015: val_loss did not improve from 1.05449\n",
      "Epoch 16/20\n",
      "19740/19740 [==============================] - 72s 4ms/step - loss: 0.3123 - accuracy: 0.9172 - val_loss: 1.1046 - val_accuracy: 0.7522\n",
      "\n",
      "Epoch 00016: val_loss did not improve from 1.05449\n",
      "Epoch 17/20\n",
      " 7200/19740 [=========>....................] - ETA: 44s - loss: 0.2910 - accuracy: 0.9235"
     ]
    },
    {
     "ename": "KeyboardInterrupt",
     "evalue": "",
     "output_type": "error",
     "traceback": [
      "\u001b[1;31m---------------------------------------------------------------------------\u001b[0m",
      "\u001b[1;31mKeyboardInterrupt\u001b[0m                         Traceback (most recent call last)",
      "\u001b[1;32m<ipython-input-263-807579e58767>\u001b[0m in \u001b[0;36m<module>\u001b[1;34m\u001b[0m\n\u001b[0;32m      2\u001b[0m \u001b[0mcheckpoint\u001b[0m \u001b[1;33m=\u001b[0m \u001b[0mModelCheckpoint\u001b[0m\u001b[1;33m(\u001b[0m\u001b[0mfilename\u001b[0m\u001b[1;33m,\u001b[0m \u001b[0mmonitor\u001b[0m\u001b[1;33m=\u001b[0m\u001b[1;34m'val_loss'\u001b[0m\u001b[1;33m,\u001b[0m \u001b[0mverbose\u001b[0m\u001b[1;33m=\u001b[0m\u001b[1;36m1\u001b[0m\u001b[1;33m,\u001b[0m \u001b[0msave_best_only\u001b[0m\u001b[1;33m=\u001b[0m\u001b[1;32mTrue\u001b[0m\u001b[1;33m,\u001b[0m \u001b[0mmode\u001b[0m\u001b[1;33m=\u001b[0m\u001b[1;34m'min'\u001b[0m\u001b[1;33m)\u001b[0m\u001b[1;33m\u001b[0m\u001b[1;33m\u001b[0m\u001b[0m\n\u001b[0;32m      3\u001b[0m \u001b[1;33m\u001b[0m\u001b[0m\n\u001b[1;32m----> 4\u001b[1;33m \u001b[0mhist\u001b[0m \u001b[1;33m=\u001b[0m \u001b[0mmodel\u001b[0m\u001b[1;33m.\u001b[0m\u001b[0mfit\u001b[0m\u001b[1;33m(\u001b[0m\u001b[0mx_train_over\u001b[0m\u001b[1;33m,\u001b[0m \u001b[0my_train_over\u001b[0m\u001b[1;33m,\u001b[0m \u001b[0mepochs\u001b[0m \u001b[1;33m=\u001b[0m \u001b[1;36m20\u001b[0m\u001b[1;33m,\u001b[0m \u001b[0mbatch_size\u001b[0m \u001b[1;33m=\u001b[0m \u001b[1;36m300\u001b[0m\u001b[1;33m,\u001b[0m \u001b[0mvalidation_data\u001b[0m \u001b[1;33m=\u001b[0m \u001b[1;33m(\u001b[0m\u001b[0mval_X\u001b[0m\u001b[1;33m,\u001b[0m \u001b[0mval_Y\u001b[0m\u001b[1;33m)\u001b[0m\u001b[1;33m,\u001b[0m \u001b[0mcallbacks\u001b[0m \u001b[1;33m=\u001b[0m \u001b[1;33m[\u001b[0m\u001b[0mcheckpoint\u001b[0m\u001b[1;33m]\u001b[0m\u001b[1;33m)\u001b[0m\u001b[1;33m\u001b[0m\u001b[1;33m\u001b[0m\u001b[0m\n\u001b[0m",
      "\u001b[1;32m~\\Anaconda3\\lib\\site-packages\\keras\\engine\\training.py\u001b[0m in \u001b[0;36mfit\u001b[1;34m(self, x, y, batch_size, epochs, verbose, callbacks, validation_split, validation_data, shuffle, class_weight, sample_weight, initial_epoch, steps_per_epoch, validation_steps, validation_freq, max_queue_size, workers, use_multiprocessing, **kwargs)\u001b[0m\n\u001b[0;32m   1237\u001b[0m                                         \u001b[0msteps_per_epoch\u001b[0m\u001b[1;33m=\u001b[0m\u001b[0msteps_per_epoch\u001b[0m\u001b[1;33m,\u001b[0m\u001b[1;33m\u001b[0m\u001b[1;33m\u001b[0m\u001b[0m\n\u001b[0;32m   1238\u001b[0m                                         \u001b[0mvalidation_steps\u001b[0m\u001b[1;33m=\u001b[0m\u001b[0mvalidation_steps\u001b[0m\u001b[1;33m,\u001b[0m\u001b[1;33m\u001b[0m\u001b[1;33m\u001b[0m\u001b[0m\n\u001b[1;32m-> 1239\u001b[1;33m                                         validation_freq=validation_freq)\n\u001b[0m\u001b[0;32m   1240\u001b[0m \u001b[1;33m\u001b[0m\u001b[0m\n\u001b[0;32m   1241\u001b[0m     def evaluate(self,\n",
      "\u001b[1;32m~\\Anaconda3\\lib\\site-packages\\keras\\engine\\training_arrays.py\u001b[0m in \u001b[0;36mfit_loop\u001b[1;34m(model, fit_function, fit_inputs, out_labels, batch_size, epochs, verbose, callbacks, val_function, val_inputs, shuffle, initial_epoch, steps_per_epoch, validation_steps, validation_freq)\u001b[0m\n\u001b[0;32m    194\u001b[0m                     \u001b[0mins_batch\u001b[0m\u001b[1;33m[\u001b[0m\u001b[0mi\u001b[0m\u001b[1;33m]\u001b[0m \u001b[1;33m=\u001b[0m \u001b[0mins_batch\u001b[0m\u001b[1;33m[\u001b[0m\u001b[0mi\u001b[0m\u001b[1;33m]\u001b[0m\u001b[1;33m.\u001b[0m\u001b[0mtoarray\u001b[0m\u001b[1;33m(\u001b[0m\u001b[1;33m)\u001b[0m\u001b[1;33m\u001b[0m\u001b[1;33m\u001b[0m\u001b[0m\n\u001b[0;32m    195\u001b[0m \u001b[1;33m\u001b[0m\u001b[0m\n\u001b[1;32m--> 196\u001b[1;33m                 \u001b[0mouts\u001b[0m \u001b[1;33m=\u001b[0m \u001b[0mfit_function\u001b[0m\u001b[1;33m(\u001b[0m\u001b[0mins_batch\u001b[0m\u001b[1;33m)\u001b[0m\u001b[1;33m\u001b[0m\u001b[1;33m\u001b[0m\u001b[0m\n\u001b[0m\u001b[0;32m    197\u001b[0m                 \u001b[0mouts\u001b[0m \u001b[1;33m=\u001b[0m \u001b[0mto_list\u001b[0m\u001b[1;33m(\u001b[0m\u001b[0mouts\u001b[0m\u001b[1;33m)\u001b[0m\u001b[1;33m\u001b[0m\u001b[1;33m\u001b[0m\u001b[0m\n\u001b[0;32m    198\u001b[0m                 \u001b[1;32mfor\u001b[0m \u001b[0ml\u001b[0m\u001b[1;33m,\u001b[0m \u001b[0mo\u001b[0m \u001b[1;32min\u001b[0m \u001b[0mzip\u001b[0m\u001b[1;33m(\u001b[0m\u001b[0mout_labels\u001b[0m\u001b[1;33m,\u001b[0m \u001b[0mouts\u001b[0m\u001b[1;33m)\u001b[0m\u001b[1;33m:\u001b[0m\u001b[1;33m\u001b[0m\u001b[1;33m\u001b[0m\u001b[0m\n",
      "\u001b[1;32m~\\Anaconda3\\lib\\site-packages\\tensorflow_core\\python\\keras\\backend.py\u001b[0m in \u001b[0;36m__call__\u001b[1;34m(self, inputs)\u001b[0m\n\u001b[0;32m   3725\u001b[0m         \u001b[0mvalue\u001b[0m \u001b[1;33m=\u001b[0m \u001b[0mmath_ops\u001b[0m\u001b[1;33m.\u001b[0m\u001b[0mcast\u001b[0m\u001b[1;33m(\u001b[0m\u001b[0mvalue\u001b[0m\u001b[1;33m,\u001b[0m \u001b[0mtensor\u001b[0m\u001b[1;33m.\u001b[0m\u001b[0mdtype\u001b[0m\u001b[1;33m)\u001b[0m\u001b[1;33m\u001b[0m\u001b[1;33m\u001b[0m\u001b[0m\n\u001b[0;32m   3726\u001b[0m       \u001b[0mconverted_inputs\u001b[0m\u001b[1;33m.\u001b[0m\u001b[0mappend\u001b[0m\u001b[1;33m(\u001b[0m\u001b[0mvalue\u001b[0m\u001b[1;33m)\u001b[0m\u001b[1;33m\u001b[0m\u001b[1;33m\u001b[0m\u001b[0m\n\u001b[1;32m-> 3727\u001b[1;33m     \u001b[0moutputs\u001b[0m \u001b[1;33m=\u001b[0m \u001b[0mself\u001b[0m\u001b[1;33m.\u001b[0m\u001b[0m_graph_fn\u001b[0m\u001b[1;33m(\u001b[0m\u001b[1;33m*\u001b[0m\u001b[0mconverted_inputs\u001b[0m\u001b[1;33m)\u001b[0m\u001b[1;33m\u001b[0m\u001b[1;33m\u001b[0m\u001b[0m\n\u001b[0m\u001b[0;32m   3728\u001b[0m \u001b[1;33m\u001b[0m\u001b[0m\n\u001b[0;32m   3729\u001b[0m     \u001b[1;31m# EagerTensor.numpy() will often make a copy to ensure memory safety.\u001b[0m\u001b[1;33m\u001b[0m\u001b[1;33m\u001b[0m\u001b[1;33m\u001b[0m\u001b[0m\n",
      "\u001b[1;32m~\\Anaconda3\\lib\\site-packages\\tensorflow_core\\python\\eager\\function.py\u001b[0m in \u001b[0;36m__call__\u001b[1;34m(self, *args, **kwargs)\u001b[0m\n\u001b[0;32m   1549\u001b[0m       \u001b[0mTypeError\u001b[0m\u001b[1;33m:\u001b[0m \u001b[0mFor\u001b[0m \u001b[0minvalid\u001b[0m \u001b[0mpositional\u001b[0m\u001b[1;33m/\u001b[0m\u001b[0mkeyword\u001b[0m \u001b[0margument\u001b[0m \u001b[0mcombinations\u001b[0m\u001b[1;33m.\u001b[0m\u001b[1;33m\u001b[0m\u001b[1;33m\u001b[0m\u001b[0m\n\u001b[0;32m   1550\u001b[0m     \"\"\"\n\u001b[1;32m-> 1551\u001b[1;33m     \u001b[1;32mreturn\u001b[0m \u001b[0mself\u001b[0m\u001b[1;33m.\u001b[0m\u001b[0m_call_impl\u001b[0m\u001b[1;33m(\u001b[0m\u001b[0margs\u001b[0m\u001b[1;33m,\u001b[0m \u001b[0mkwargs\u001b[0m\u001b[1;33m)\u001b[0m\u001b[1;33m\u001b[0m\u001b[1;33m\u001b[0m\u001b[0m\n\u001b[0m\u001b[0;32m   1552\u001b[0m \u001b[1;33m\u001b[0m\u001b[0m\n\u001b[0;32m   1553\u001b[0m   \u001b[1;32mdef\u001b[0m \u001b[0m_call_impl\u001b[0m\u001b[1;33m(\u001b[0m\u001b[0mself\u001b[0m\u001b[1;33m,\u001b[0m \u001b[0margs\u001b[0m\u001b[1;33m,\u001b[0m \u001b[0mkwargs\u001b[0m\u001b[1;33m,\u001b[0m \u001b[0mcancellation_manager\u001b[0m\u001b[1;33m=\u001b[0m\u001b[1;32mNone\u001b[0m\u001b[1;33m)\u001b[0m\u001b[1;33m:\u001b[0m\u001b[1;33m\u001b[0m\u001b[1;33m\u001b[0m\u001b[0m\n",
      "\u001b[1;32m~\\Anaconda3\\lib\\site-packages\\tensorflow_core\\python\\eager\\function.py\u001b[0m in \u001b[0;36m_call_impl\u001b[1;34m(self, args, kwargs, cancellation_manager)\u001b[0m\n\u001b[0;32m   1589\u001b[0m       raise TypeError(\"Keyword arguments {} unknown. Expected {}.\".format(\n\u001b[0;32m   1590\u001b[0m           list(kwargs.keys()), list(self._arg_keywords)))\n\u001b[1;32m-> 1591\u001b[1;33m     \u001b[1;32mreturn\u001b[0m \u001b[0mself\u001b[0m\u001b[1;33m.\u001b[0m\u001b[0m_call_flat\u001b[0m\u001b[1;33m(\u001b[0m\u001b[0margs\u001b[0m\u001b[1;33m,\u001b[0m \u001b[0mself\u001b[0m\u001b[1;33m.\u001b[0m\u001b[0mcaptured_inputs\u001b[0m\u001b[1;33m,\u001b[0m \u001b[0mcancellation_manager\u001b[0m\u001b[1;33m)\u001b[0m\u001b[1;33m\u001b[0m\u001b[1;33m\u001b[0m\u001b[0m\n\u001b[0m\u001b[0;32m   1592\u001b[0m \u001b[1;33m\u001b[0m\u001b[0m\n\u001b[0;32m   1593\u001b[0m   \u001b[1;32mdef\u001b[0m \u001b[0m_filtered_call\u001b[0m\u001b[1;33m(\u001b[0m\u001b[0mself\u001b[0m\u001b[1;33m,\u001b[0m \u001b[0margs\u001b[0m\u001b[1;33m,\u001b[0m \u001b[0mkwargs\u001b[0m\u001b[1;33m)\u001b[0m\u001b[1;33m:\u001b[0m\u001b[1;33m\u001b[0m\u001b[1;33m\u001b[0m\u001b[0m\n",
      "\u001b[1;32m~\\Anaconda3\\lib\\site-packages\\tensorflow_core\\python\\eager\\function.py\u001b[0m in \u001b[0;36m_call_flat\u001b[1;34m(self, args, captured_inputs, cancellation_manager)\u001b[0m\n\u001b[0;32m   1690\u001b[0m       \u001b[1;31m# No tape is watching; skip to running the function.\u001b[0m\u001b[1;33m\u001b[0m\u001b[1;33m\u001b[0m\u001b[1;33m\u001b[0m\u001b[0m\n\u001b[0;32m   1691\u001b[0m       return self._build_call_outputs(self._inference_function.call(\n\u001b[1;32m-> 1692\u001b[1;33m           ctx, args, cancellation_manager=cancellation_manager))\n\u001b[0m\u001b[0;32m   1693\u001b[0m     forward_backward = self._select_forward_and_backward_functions(\n\u001b[0;32m   1694\u001b[0m         \u001b[0margs\u001b[0m\u001b[1;33m,\u001b[0m\u001b[1;33m\u001b[0m\u001b[1;33m\u001b[0m\u001b[0m\n",
      "\u001b[1;32m~\\Anaconda3\\lib\\site-packages\\tensorflow_core\\python\\eager\\function.py\u001b[0m in \u001b[0;36mcall\u001b[1;34m(self, ctx, args, cancellation_manager)\u001b[0m\n\u001b[0;32m    543\u001b[0m               \u001b[0minputs\u001b[0m\u001b[1;33m=\u001b[0m\u001b[0margs\u001b[0m\u001b[1;33m,\u001b[0m\u001b[1;33m\u001b[0m\u001b[1;33m\u001b[0m\u001b[0m\n\u001b[0;32m    544\u001b[0m               \u001b[0mattrs\u001b[0m\u001b[1;33m=\u001b[0m\u001b[1;33m(\u001b[0m\u001b[1;34m\"executor_type\"\u001b[0m\u001b[1;33m,\u001b[0m \u001b[0mexecutor_type\u001b[0m\u001b[1;33m,\u001b[0m \u001b[1;34m\"config_proto\"\u001b[0m\u001b[1;33m,\u001b[0m \u001b[0mconfig\u001b[0m\u001b[1;33m)\u001b[0m\u001b[1;33m,\u001b[0m\u001b[1;33m\u001b[0m\u001b[1;33m\u001b[0m\u001b[0m\n\u001b[1;32m--> 545\u001b[1;33m               ctx=ctx)\n\u001b[0m\u001b[0;32m    546\u001b[0m         \u001b[1;32melse\u001b[0m\u001b[1;33m:\u001b[0m\u001b[1;33m\u001b[0m\u001b[1;33m\u001b[0m\u001b[0m\n\u001b[0;32m    547\u001b[0m           outputs = execute.execute_with_cancellation(\n",
      "\u001b[1;32m~\\Anaconda3\\lib\\site-packages\\tensorflow_core\\python\\eager\\execute.py\u001b[0m in \u001b[0;36mquick_execute\u001b[1;34m(op_name, num_outputs, inputs, attrs, ctx, name)\u001b[0m\n\u001b[0;32m     59\u001b[0m     tensors = pywrap_tensorflow.TFE_Py_Execute(ctx._handle, device_name,\n\u001b[0;32m     60\u001b[0m                                                \u001b[0mop_name\u001b[0m\u001b[1;33m,\u001b[0m \u001b[0minputs\u001b[0m\u001b[1;33m,\u001b[0m \u001b[0mattrs\u001b[0m\u001b[1;33m,\u001b[0m\u001b[1;33m\u001b[0m\u001b[1;33m\u001b[0m\u001b[0m\n\u001b[1;32m---> 61\u001b[1;33m                                                num_outputs)\n\u001b[0m\u001b[0;32m     62\u001b[0m   \u001b[1;32mexcept\u001b[0m \u001b[0mcore\u001b[0m\u001b[1;33m.\u001b[0m\u001b[0m_NotOkStatusException\u001b[0m \u001b[1;32mas\u001b[0m \u001b[0me\u001b[0m\u001b[1;33m:\u001b[0m\u001b[1;33m\u001b[0m\u001b[1;33m\u001b[0m\u001b[0m\n\u001b[0;32m     63\u001b[0m     \u001b[1;32mif\u001b[0m \u001b[0mname\u001b[0m \u001b[1;32mis\u001b[0m \u001b[1;32mnot\u001b[0m \u001b[1;32mNone\u001b[0m\u001b[1;33m:\u001b[0m\u001b[1;33m\u001b[0m\u001b[1;33m\u001b[0m\u001b[0m\n",
      "\u001b[1;31mKeyboardInterrupt\u001b[0m: "
     ]
    }
   ],
   "source": [
    "filename = 'model.h5'\n",
    "checkpoint = ModelCheckpoint(filename, monitor='val_loss', verbose=1, save_best_only=True, mode='min')\n",
    "\n",
    "hist = model.fit(x_train_over, y_train_over, epochs = 20, batch_size = 300, validation_data = (val_X, val_Y), callbacks = [checkpoint])"
   ]
  },
  {
   "cell_type": "code",
   "execution_count": 103,
   "metadata": {},
   "outputs": [],
   "source": []
  },
  {
   "cell_type": "markdown",
   "metadata": {},
   "source": [
    "## Prediction\n"
   ]
  },
  {
   "cell_type": "code",
   "execution_count": 264,
   "metadata": {},
   "outputs": [],
   "source": [
    "import pandas as pd"
   ]
  },
  {
   "cell_type": "code",
   "execution_count": 284,
   "metadata": {},
   "outputs": [
    {
     "data": {
      "text/html": [
       "<div>\n",
       "<style scoped>\n",
       "    .dataframe tbody tr th:only-of-type {\n",
       "        vertical-align: middle;\n",
       "    }\n",
       "\n",
       "    .dataframe tbody tr th {\n",
       "        vertical-align: top;\n",
       "    }\n",
       "\n",
       "    .dataframe thead th {\n",
       "        text-align: right;\n",
       "    }\n",
       "</style>\n",
       "<table border=\"1\" class=\"dataframe\">\n",
       "  <thead>\n",
       "    <tr style=\"text-align: right;\">\n",
       "      <th></th>\n",
       "      <th>Unnamed: 0</th>\n",
       "      <th>question</th>\n",
       "    </tr>\n",
       "  </thead>\n",
       "  <tbody>\n",
       "    <tr>\n",
       "      <td>0</td>\n",
       "      <td>0</td>\n",
       "      <td>delete item on list</td>\n",
       "    </tr>\n",
       "    <tr>\n",
       "      <td>1</td>\n",
       "      <td>1</td>\n",
       "      <td>what brand hair spray does donald trump use</td>\n",
       "    </tr>\n",
       "    <tr>\n",
       "      <td>2</td>\n",
       "      <td>2</td>\n",
       "      <td>play the song by michael jackson</td>\n",
       "    </tr>\n",
       "    <tr>\n",
       "      <td>3</td>\n",
       "      <td>3</td>\n",
       "      <td>what events are near me</td>\n",
       "    </tr>\n",
       "    <tr>\n",
       "      <td>4</td>\n",
       "      <td>4</td>\n",
       "      <td>can you reserve a ticket to grand rapids by train</td>\n",
       "    </tr>\n",
       "    <tr>\n",
       "      <td>...</td>\n",
       "      <td>...</td>\n",
       "      <td>...</td>\n",
       "    </tr>\n",
       "    <tr>\n",
       "      <td>6216</td>\n",
       "      <td>6216</td>\n",
       "      <td>tweet consumer service that the goods are of l...</td>\n",
       "    </tr>\n",
       "    <tr>\n",
       "      <td>6217</td>\n",
       "      <td>6217</td>\n",
       "      <td>can you tell me what a grommet is</td>\n",
       "    </tr>\n",
       "    <tr>\n",
       "      <td>6218</td>\n",
       "      <td>6218</td>\n",
       "      <td>start words with friends</td>\n",
       "    </tr>\n",
       "    <tr>\n",
       "      <td>6219</td>\n",
       "      <td>6219</td>\n",
       "      <td>please read me headlines from washington post</td>\n",
       "    </tr>\n",
       "    <tr>\n",
       "      <td>6220</td>\n",
       "      <td>6220</td>\n",
       "      <td>change that off the list</td>\n",
       "    </tr>\n",
       "  </tbody>\n",
       "</table>\n",
       "<p>6221 rows × 2 columns</p>\n",
       "</div>"
      ],
      "text/plain": [
       "      Unnamed: 0                                           question\n",
       "0              0                                delete item on list\n",
       "1              1        what brand hair spray does donald trump use\n",
       "2              2                   play the song by michael jackson\n",
       "3              3                            what events are near me\n",
       "4              4  can you reserve a ticket to grand rapids by train\n",
       "...          ...                                                ...\n",
       "6216        6216  tweet consumer service that the goods are of l...\n",
       "6217        6217                  can you tell me what a grommet is\n",
       "6218        6218                           start words with friends\n",
       "6219        6219      please read me headlines from washington post\n",
       "6220        6220                           change that off the list\n",
       "\n",
       "[6221 rows x 2 columns]"
      ]
     },
     "execution_count": 284,
     "metadata": {},
     "output_type": "execute_result"
    }
   ],
   "source": [
    "test_test = pd.read_csv(\"test_dataset_intent_to_share.csv\", sep = \",\")\n",
    "test_test"
   ]
  },
  {
   "cell_type": "code",
   "execution_count": 285,
   "metadata": {},
   "outputs": [],
   "source": [
    "\n",
    "test_test = test_test[\"question\"]\n"
   ]
  },
  {
   "cell_type": "code",
   "execution_count": 287,
   "metadata": {},
   "outputs": [],
   "source": [
    "model = load_model(\"model.h5\")"
   ]
  },
  {
   "cell_type": "code",
   "execution_count": 288,
   "metadata": {},
   "outputs": [],
   "source": [
    "def predictions(text):\n",
    "  clean = re.sub(r'[^ a-z A-Z 0-9]', \" \", text)\n",
    "  test_word = word_tokenize(clean)\n",
    "  test_word = [w.lower() for w in test_word]\n",
    "  test_ls = word_tokenizer.texts_to_sequences(test_word)\n",
    "  print(test_word)\n",
    "  #Check for unknown words\n",
    "  if [] in test_ls:\n",
    "    test_ls = list(filter(None, test_ls))\n",
    "    \n",
    "  test_ls = np.array(test_ls).reshape(1, len(test_ls))\n",
    " \n",
    "  x = padding_doc(test_ls, max_length)\n",
    "  \n",
    "  pred = model.predict_proba(x)\n",
    "  \n",
    "  \n",
    "  return pred"
   ]
  },
  {
   "cell_type": "code",
   "execution_count": 349,
   "metadata": {},
   "outputs": [],
   "source": [
    "def get_final_output(pred, classes):\n",
    "  predictions = pred[0]\n",
    " \n",
    "  classes = np.array(classes)\n",
    "  ids = np.argsort(-predictions)\n",
    "  classes = classes[ids]\n",
    "  predictions = -np.sort(-predictions)\n",
    " \n",
    "  for i in range(pred.shape[1]):\n",
    "    print(\"%s has confidence = %s\" % (classes[i], (predictions[i])))"
   ]
  },
  {
   "cell_type": "code",
   "execution_count": 359,
   "metadata": {},
   "outputs": [
    {
     "name": "stdout",
     "output_type": "stream",
     "text": [
      "['what', 'is', 'the', 'date', 'and', 'time', 'for', 'today']\n",
      "datetime_query has confidence = 0.9836469\n",
      "datetime_convert has confidence = 0.010745879\n",
      "weather_query has confidence = 0.0021022882\n",
      "qa_stock has confidence = 0.0011802933\n",
      "calendar_query has confidence = 0.0011612036\n",
      "general_quirky has confidence = 0.00044787204\n",
      "email_query has confidence = 0.00026959\n",
      "qa_factoid has confidence = 0.00021377763\n",
      "alarm_query has confidence = 0.0001262789\n",
      "qa_currency has confidence = 2.2037371e-05\n",
      "email_querycontact has confidence = 1.955291e-05\n",
      "transport_query has confidence = 1.6498681e-05\n",
      "transport_traffic has confidence = 1.1560248e-05\n",
      "qa_definition has confidence = 6.337876e-06\n",
      "alarm_set has confidence = 6.314944e-06\n",
      "news_query has confidence = 3.4324687e-06\n",
      "recommendation_events has confidence = 3.4118232e-06\n",
      "audio_volume_mute has confidence = 2.871953e-06\n",
      "play_radio has confidence = 1.9138176e-06\n",
      "music_query has confidence = 1.4628184e-06\n",
      "lists_query has confidence = 1.141946e-06\n",
      "iot_hue_lightup has confidence = 1.1368356e-06\n",
      "takeaway_query has confidence = 1.0409711e-06\n",
      "takeaway_order has confidence = 9.093264e-07\n",
      "cooking_recipe has confidence = 9.016977e-07\n",
      "iot_hue_lightoff has confidence = 8.796951e-07\n",
      "social_query has confidence = 6.903121e-07\n",
      "music_likeness has confidence = 6.6286253e-07\n",
      "calendar_set has confidence = 5.965259e-07\n",
      "recommendation_locations has confidence = 5.078773e-07\n",
      "email_sendemail has confidence = 4.9637026e-07\n",
      "play_music has confidence = 4.574212e-07\n",
      "calendar_remove has confidence = 3.8588803e-07\n",
      "qa_maths has confidence = 2.2382658e-07\n",
      "email_addcontact has confidence = 1.8533095e-07\n",
      "iot_hue_lightchange has confidence = 1.2911093e-07\n",
      "music_dislikeness has confidence = 7.4775e-08\n",
      "alarm_remove has confidence = 6.763067e-08\n",
      "iot_hue_lightdim has confidence = 4.5994934e-08\n",
      "play_podcasts has confidence = 4.091108e-08\n",
      "audio_volume_up has confidence = 1.9007212e-08\n",
      "recommendation_movies has confidence = 1.805294e-08\n",
      "iot_wemo_on has confidence = 1.6301946e-08\n",
      "lists_remove has confidence = 1.3711915e-08\n",
      "social_post has confidence = 8.582988e-09\n",
      "music_settings has confidence = 7.7415825e-09\n",
      "iot_hue_lighton has confidence = 5.397223e-09\n",
      "play_game has confidence = 5.000105e-09\n",
      "iot_wemo_off has confidence = 3.5584236e-09\n",
      "transport_ticket has confidence = 1.7691404e-09\n",
      "cooking_query has confidence = 1.7575705e-09\n",
      "play_audiobook has confidence = 1.0431568e-09\n",
      "general_greet has confidence = 1.0080642e-09\n",
      "general_joke has confidence = 4.0627057e-10\n",
      "iot_coffee has confidence = 3.012187e-10\n",
      "lists_createoradd has confidence = 2.2932081e-10\n",
      "audio_volume_down has confidence = 1.2582388e-10\n",
      "iot_cleaning has confidence = 8.32564e-11\n",
      "transport_taxi has confidence = 5.4651936e-11\n",
      "audio_volume_other has confidence = 4.323354e-12\n"
     ]
    }
   ],
   "source": [
    "text = test_test[6000]\n",
    "pred = predictions(text)\n",
    "get_final_output(pred, unique_scen_int)"
   ]
  },
  {
   "cell_type": "code",
   "execution_count": null,
   "metadata": {},
   "outputs": [],
   "source": []
  },
  {
   "cell_type": "code",
   "execution_count": null,
   "metadata": {},
   "outputs": [],
   "source": []
  }
 ],
 "metadata": {
  "kernelspec": {
   "display_name": "Python 3",
   "language": "python",
   "name": "python3"
  },
  "language_info": {
   "codemirror_mode": {
    "name": "ipython",
    "version": 3
   },
   "file_extension": ".py",
   "mimetype": "text/x-python",
   "name": "python",
   "nbconvert_exporter": "python",
   "pygments_lexer": "ipython3",
   "version": "3.7.4"
  }
 },
 "nbformat": 4,
 "nbformat_minor": 2
}
